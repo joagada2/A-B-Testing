{
 "cells": [
  {
   "cell_type": "markdown",
   "id": "9e5ba3bb",
   "metadata": {},
   "source": [
    "# MARKETING A/B TESTING \n",
    "Marketing companies want to run successful campaigns, but the market is complex and several options can work, hence, A/B testing is handing in determining the most rewarding option. A/B testing is a randomized experimentation process wherein two versions of a treatment (web page, wordingd of headlines, price of products, design of button, web interface design, banner, etc.) are randomly applied to different segments of people at the same time to determine which version leaves the maximum impact and drive business metrics. in conducting A/B tests, companies are interested in answering two questions:\n",
    " - Would the campaign be successful?\n",
    " - If the campaign was successful, how much of that success could be attributed to the treatment being examined?\n",
    "With the second question in mind, we normally do an A/B test. In this project, I shall carry out A/B testing to determine if advertisement perform better than public service announcement in maximizing conversion rate \n",
    "\n",
    "### Dataset\n",
    "The dataset for this project was generated from A/B testing designed to ads perform better than public service announcement (PSA). Here, more people were exposed to the treatment (ads) while fewer people were exposed to the control (PSA). The majority of the people will be exposed to ads (the experimental group). As rule of thumb, the sample size of over 500k is considered sufficient to detect small effect sizes. The dataset was downloaded from https://www.kaggle.com/datasets/faviovaz/marketing-ab-testing. The idea of the dataset is to analyze the groups, find if the ads were successful, how much more money is the company expected to make from the ads.\n",
    "  - Data dictionary:\n",
    "  - Index: Row index\n",
    "  - user id: User ID (unique)\n",
    "  - test group: If \"ad\" the person saw the advertisement, if \"psa\" they only saw the public service announcement\n",
    "  - converted: If a person bought the product then True, else is False\n",
    "  - total ads: Amount of ads seen by person\n",
    "  - most ads day: Day that the person saw the biggest amount of ads\n",
    "  - most ads hour: Hour of day that the person saw the biggest amount of ads\n",
    "Only the test group and converted columns will be used in this test to determine if there is interaction between ad and psa"
   ]
  },
  {
   "cell_type": "code",
   "execution_count": 49,
   "id": "24fd0b31",
   "metadata": {},
   "outputs": [],
   "source": [
    "import pandas as pd\n",
    "import matplotlib.pyplot as pt\n",
    "import seaborn as sns\n",
    "import scipy.stats as st\n",
    "import seaborn as sns\n",
    "df = pd.read_csv('marketing_AB.csv')"
   ]
  },
  {
   "cell_type": "code",
   "execution_count": 50,
   "id": "03ce91d2",
   "metadata": {},
   "outputs": [
    {
     "data": {
      "text/html": [
       "<div>\n",
       "<style scoped>\n",
       "    .dataframe tbody tr th:only-of-type {\n",
       "        vertical-align: middle;\n",
       "    }\n",
       "\n",
       "    .dataframe tbody tr th {\n",
       "        vertical-align: top;\n",
       "    }\n",
       "\n",
       "    .dataframe thead th {\n",
       "        text-align: right;\n",
       "    }\n",
       "</style>\n",
       "<table border=\"1\" class=\"dataframe\">\n",
       "  <thead>\n",
       "    <tr style=\"text-align: right;\">\n",
       "      <th></th>\n",
       "      <th>Unnamed: 0</th>\n",
       "      <th>user id</th>\n",
       "      <th>test group</th>\n",
       "      <th>converted</th>\n",
       "      <th>total ads</th>\n",
       "      <th>most ads day</th>\n",
       "      <th>most ads hour</th>\n",
       "    </tr>\n",
       "  </thead>\n",
       "  <tbody>\n",
       "    <tr>\n",
       "      <th>0</th>\n",
       "      <td>0</td>\n",
       "      <td>1069124</td>\n",
       "      <td>ad</td>\n",
       "      <td>False</td>\n",
       "      <td>130</td>\n",
       "      <td>Monday</td>\n",
       "      <td>20</td>\n",
       "    </tr>\n",
       "    <tr>\n",
       "      <th>1</th>\n",
       "      <td>1</td>\n",
       "      <td>1119715</td>\n",
       "      <td>ad</td>\n",
       "      <td>False</td>\n",
       "      <td>93</td>\n",
       "      <td>Tuesday</td>\n",
       "      <td>22</td>\n",
       "    </tr>\n",
       "    <tr>\n",
       "      <th>2</th>\n",
       "      <td>2</td>\n",
       "      <td>1144181</td>\n",
       "      <td>ad</td>\n",
       "      <td>False</td>\n",
       "      <td>21</td>\n",
       "      <td>Tuesday</td>\n",
       "      <td>18</td>\n",
       "    </tr>\n",
       "    <tr>\n",
       "      <th>3</th>\n",
       "      <td>3</td>\n",
       "      <td>1435133</td>\n",
       "      <td>ad</td>\n",
       "      <td>False</td>\n",
       "      <td>355</td>\n",
       "      <td>Tuesday</td>\n",
       "      <td>10</td>\n",
       "    </tr>\n",
       "    <tr>\n",
       "      <th>4</th>\n",
       "      <td>4</td>\n",
       "      <td>1015700</td>\n",
       "      <td>ad</td>\n",
       "      <td>False</td>\n",
       "      <td>276</td>\n",
       "      <td>Friday</td>\n",
       "      <td>14</td>\n",
       "    </tr>\n",
       "  </tbody>\n",
       "</table>\n",
       "</div>"
      ],
      "text/plain": [
       "   Unnamed: 0  user id test group  converted  total ads most ads day  \\\n",
       "0           0  1069124         ad      False        130       Monday   \n",
       "1           1  1119715         ad      False         93      Tuesday   \n",
       "2           2  1144181         ad      False         21      Tuesday   \n",
       "3           3  1435133         ad      False        355      Tuesday   \n",
       "4           4  1015700         ad      False        276       Friday   \n",
       "\n",
       "   most ads hour  \n",
       "0             20  \n",
       "1             22  \n",
       "2             18  \n",
       "3             10  \n",
       "4             14  "
      ]
     },
     "execution_count": 50,
     "metadata": {},
     "output_type": "execute_result"
    }
   ],
   "source": [
    "df.head()"
   ]
  },
  {
   "cell_type": "markdown",
   "id": "34dccc6a",
   "metadata": {},
   "source": [
    "##### The Null Hypothesis of no association between test grooup and converted (that is, ads or psa have no impact on conversion rate) will be rejected is the p - value for the test is less that alph value of 0.05. alpha is a pre-determined probability of the difference in conversion rate being attributed to random chance while p - value is alpha value calculated from available sample."
   ]
  },
  {
   "cell_type": "code",
   "execution_count": 51,
   "id": "25db616c",
   "metadata": {},
   "outputs": [
    {
     "data": {
      "text/plain": [
       "<AxesSubplot: xlabel='converted', ylabel='count'>"
      ]
     },
     "execution_count": 51,
     "metadata": {},
     "output_type": "execute_result"
    },
    {
     "data": {
      "image/png": "[encoded data removed]",
      "text/plain": [
       "<Figure size 432x288 with 1 Axes>"
      ]
     },
     "metadata": {
      "needs_background": "light"
     },
     "output_type": "display_data"
    }
   ],
   "source": [
    "#count plot for conversion rate across the 2 treatments\n",
    "sns.countplot(x = 'converted', hue = 'test group', data = df)"
   ]
  },
  {
   "cell_type": "code",
   "execution_count": 52,
   "id": "be214b64",
   "metadata": {},
   "outputs": [],
   "source": [
    "#I amend the column name to enable crosstabulation\n",
    "df = df[['test group','converted']]\n",
    "df.columns = ['test_group','converted']"
   ]
  },
  {
   "cell_type": "code",
   "execution_count": 53,
   "id": "22ced240",
   "metadata": {},
   "outputs": [
    {
     "data": {
      "text/html": [
       "<div>\n",
       "<style scoped>\n",
       "    .dataframe tbody tr th:only-of-type {\n",
       "        vertical-align: middle;\n",
       "    }\n",
       "\n",
       "    .dataframe tbody tr th {\n",
       "        vertical-align: top;\n",
       "    }\n",
       "\n",
       "    .dataframe thead th {\n",
       "        text-align: right;\n",
       "    }\n",
       "</style>\n",
       "<table border=\"1\" class=\"dataframe\">\n",
       "  <thead>\n",
       "    <tr style=\"text-align: right;\">\n",
       "      <th></th>\n",
       "      <th>test_group</th>\n",
       "      <th>converted</th>\n",
       "    </tr>\n",
       "  </thead>\n",
       "  <tbody>\n",
       "    <tr>\n",
       "      <th>0</th>\n",
       "      <td>ad</td>\n",
       "      <td>False</td>\n",
       "    </tr>\n",
       "    <tr>\n",
       "      <th>1</th>\n",
       "      <td>ad</td>\n",
       "      <td>False</td>\n",
       "    </tr>\n",
       "    <tr>\n",
       "      <th>2</th>\n",
       "      <td>ad</td>\n",
       "      <td>False</td>\n",
       "    </tr>\n",
       "    <tr>\n",
       "      <th>3</th>\n",
       "      <td>ad</td>\n",
       "      <td>False</td>\n",
       "    </tr>\n",
       "    <tr>\n",
       "      <th>4</th>\n",
       "      <td>ad</td>\n",
       "      <td>False</td>\n",
       "    </tr>\n",
       "    <tr>\n",
       "      <th>...</th>\n",
       "      <td>...</td>\n",
       "      <td>...</td>\n",
       "    </tr>\n",
       "    <tr>\n",
       "      <th>588096</th>\n",
       "      <td>ad</td>\n",
       "      <td>False</td>\n",
       "    </tr>\n",
       "    <tr>\n",
       "      <th>588097</th>\n",
       "      <td>ad</td>\n",
       "      <td>False</td>\n",
       "    </tr>\n",
       "    <tr>\n",
       "      <th>588098</th>\n",
       "      <td>ad</td>\n",
       "      <td>False</td>\n",
       "    </tr>\n",
       "    <tr>\n",
       "      <th>588099</th>\n",
       "      <td>ad</td>\n",
       "      <td>False</td>\n",
       "    </tr>\n",
       "    <tr>\n",
       "      <th>588100</th>\n",
       "      <td>ad</td>\n",
       "      <td>False</td>\n",
       "    </tr>\n",
       "  </tbody>\n",
       "</table>\n",
       "<p>588101 rows × 2 columns</p>\n",
       "</div>"
      ],
      "text/plain": [
       "       test_group  converted\n",
       "0              ad      False\n",
       "1              ad      False\n",
       "2              ad      False\n",
       "3              ad      False\n",
       "4              ad      False\n",
       "...           ...        ...\n",
       "588096         ad      False\n",
       "588097         ad      False\n",
       "588098         ad      False\n",
       "588099         ad      False\n",
       "588100         ad      False\n",
       "\n",
       "[588101 rows x 2 columns]"
      ]
     },
     "execution_count": 53,
     "metadata": {},
     "output_type": "execute_result"
    }
   ],
   "source": [
    "df"
   ]
  },
  {
   "cell_type": "code",
   "execution_count": 54,
   "id": "fa5396f1",
   "metadata": {},
   "outputs": [
    {
     "name": "stdout",
     "output_type": "stream",
     "text": [
      "converted    False   True\n",
      "test_group               \n",
      "ad          550154  14423\n",
      "psa          23104    420\n"
     ]
    }
   ],
   "source": [
    "#cross tabulation for chi2 test\n",
    "print(pd.crosstab(df.test_group,df.converted))"
   ]
  },
  {
   "cell_type": "code",
   "execution_count": 55,
   "id": "da49b1e9",
   "metadata": {},
   "outputs": [],
   "source": [
    "ab_contingency = pd.crosstab(df.test_group,df.converted)"
   ]
  },
  {
   "cell_type": "code",
   "execution_count": 56,
   "id": "97d2093e",
   "metadata": {},
   "outputs": [
    {
     "name": "stdout",
     "output_type": "stream",
     "text": [
      "1.9989623063390075e-13\n"
     ]
    }
   ],
   "source": [
    "chi2, pval, dof, expected = st.chi2_contingency(ab_contingency)\n",
    "print(pval)"
   ]
  },
  {
   "cell_type": "markdown",
   "id": "46ed51c3",
   "metadata": {},
   "source": [
    "p-value of 0.00000000000013 < alpha hence we reject the null hypothesis of no interaction and conclude that the ads\n",
    "generated much more conversions than the public service announcement. Conversion rate for ads is 2.55 while conversion rate\n",
    "for public service announcement is 1.79 hence the difference in conversion rate which is 0.76% is significant"
   ]
  }
 ],
 "metadata": {
  "kernelspec": {
   "display_name": "Python 3 (ipykernel)",
   "language": "python",
   "name": "python3"
  },
  "language_info": {
   "codemirror_mode": {
    "name": "ipython",
    "version": 3
   },
   "file_extension": ".py",
   "mimetype": "text/x-python",
   "name": "python",
   "nbconvert_exporter": "python",
   "pygments_lexer": "ipython3",
   "version": "3.9.12"
  }
 },
 "nbformat": 4,
 "nbformat_minor": 5
}
